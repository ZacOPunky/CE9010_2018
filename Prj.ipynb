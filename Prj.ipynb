{
 "cells": [
  {
   "cell_type": "code",
   "execution_count": 100,
   "metadata": {},
   "outputs": [],
   "source": [
    "import numpy as np\n",
    "import pandas as pd\n",
    "import csv\n",
    "import ast\n",
    "\n",
    "from urllib.request import urlretrieve\n",
    "\n",
    "\n"
   ]
  },
  {
   "cell_type": "code",
   "execution_count": 11,
   "metadata": {},
   "outputs": [],
   "source": [
    "#urlretrieve(\"https://www.kaggle.com/PromptCloudHQ/londonbased-restaurants-reviews-on-tripadvisor/data\" , \"tripadvisor_co_uk-travel_restaurant_reviews_sample.csv\")\n",
    "#data = pd.read_csv(\"tripadvisor_co_uk-travel_restaurant_reviews_sample.csv\") #read the file and store into 'data'\n",
    "#print(data)"
   ]
  },
  {
   "cell_type": "code",
   "execution_count": 122,
   "metadata": {},
   "outputs": [
    {
     "name": "stdout",
     "output_type": "stream",
     "text": [
      "(19998, 17)\n",
      "2\n"
     ]
    }
   ],
   "source": [
    "data = pd.read_csv('tripadvisor_co_uk-travel_restaurant_reviews_sample.csv',dtype={\"rating\": str,\"food\": str,\"value\": str,\"service\":str}) #read the file and store into 'data'\n",
    "print(data.shape)\n",
    "print(data.ndim)"
   ]
  },
  {
   "cell_type": "code",
   "execution_count": 128,
   "metadata": {},
   "outputs": [
    {
     "name": "stdout",
     "output_type": "stream",
     "text": [
      "name       object\n",
      "rating     object\n",
      "food       object\n",
      "value      object\n",
      "service    object\n",
      "dtype: object\n",
      "                                   name  rating            food  \\\n",
      "0                   Balans Soho Society     5.0             NaN   \n",
      "1                          Duke of York     3.0  3 of 5 bubbles   \n",
      "2                      Dawat Restaurant     4.0             NaN   \n",
      "3         Gourmet Burger Kitchen Ealing     4.0  4 of 5 bubbles   \n",
      "4                                 Lingo     4.0  4 of 5 bubbles   \n",
      "5                              Tonkotsu     4.0  4 of 5 bubbles   \n",
      "6                Dirty Martini Monument     2.0             NaN   \n",
      "7                              Tonkotsu     1.0  1 of 5 bubbles   \n",
      "8               The Boundary Restaurant     5.0             NaN   \n",
      "9         Gourmet Burger Kitchen Ealing     4.0             NaN   \n",
      "10                          Uncle Nam's     4.0             NaN   \n",
      "11                  Balans Soho Society     3.0  3 of 5 bubbles   \n",
      "12                         Maramia Cafe     2.0             NaN   \n",
      "13                    Le Pain Quotidien     1.0  1 of 5 bubbles   \n",
      "14                     Amigos Peri Peri     5.0             NaN   \n",
      "15                  Balans Soho Society     3.0             NaN   \n",
      "16                             Tonkotsu     3.0  3 of 5 bubbles   \n",
      "17                            The House     4.0  4 of 5 bubbles   \n",
      "18                          Ponte Nuovo     5.0  5 of 5 bubbles   \n",
      "19                             Tonkotsu     2.0             NaN   \n",
      "20                             Tonkotsu     5.0             NaN   \n",
      "21        Gourmet Burger Kitchen Ealing     3.0             NaN   \n",
      "22                             Tonkotsu     2.0  2 of 5 bubbles   \n",
      "23              The Boundary Restaurant     5.0             NaN   \n",
      "24                                  Yas     5.0             NaN   \n",
      "25                    Bill's Restaurant     2.0  1 of 5 bubbles   \n",
      "26              The Boundary Restaurant     5.0             NaN   \n",
      "27                     The Escapologist     5.0             NaN   \n",
      "28              The Boundary Restaurant     2.0             NaN   \n",
      "29                      The Curious Pig     4.0             NaN   \n",
      "...                                 ...     ...             ...   \n",
      "19968             Mattarello Restaurant     4.0             NaN   \n",
      "19969                     The Pig's Ear     5.0             NaN   \n",
      "19970                  Launceston Place     5.0             NaN   \n",
      "19971      Galvin at Windows Restaurant     4.0  5 of 5 bubbles   \n",
      "19972     Alyn Williams at the Westbury     4.0             NaN   \n",
      "19973                           The Ivy     5.0  5 of 5 bubbles   \n",
      "19974                     Cafe Mexicali     2.0             NaN   \n",
      "19975             Honest Burgers - Soho     5.0             NaN   \n",
      "19976                        Chez Elles     5.0             NaN   \n",
      "19977              Delicatessen Yoshino     3.0  3 of 5 bubbles   \n",
      "19978               San Carlo Cicchetti     3.0  5 of 5 bubbles   \n",
      "19979  Brasserie Blanc Charlotte Street     4.0  5 of 5 bubbles   \n",
      "19980                         Satay Bar     5.0             NaN   \n",
      "19981                Retsina Restaurant     5.0  5 of 5 bubbles   \n",
      "19982                   Taberna Etrusca     3.0  3 of 5 bubbles   \n",
      "19983                              NOPI     5.0  5 of 5 bubbles   \n",
      "19984                      Regency Cafe     5.0             NaN   \n",
      "19985          Fiddie’s Italian Kitchen     5.0  5 of 5 bubbles   \n",
      "19986                          Zaibatsu     5.0             NaN   \n",
      "19987          Albina restaurant london     5.0             NaN   \n",
      "19988        Randall & Aubin Restaurant     5.0             NaN   \n",
      "19989                         Kobo Cafe     5.0             NaN   \n",
      "19990                          Bar Remo     5.0             NaN   \n",
      "19991           Flat Iron Covent Garden     5.0             NaN   \n",
      "19992        Cafe Rouge - Hays Galleria     4.0  5 of 5 bubbles   \n",
      "19993                Banana Tree - Soho     1.0             NaN   \n",
      "19994      Afternoon Tea at One Aldwych     4.0  5 of 5 bubbles   \n",
      "19995                   Jamie's Italian     5.0  5 of 5 bubbles   \n",
      "19996                   Jamie's Italian     2.0  2 of 5 bubbles   \n",
      "19997                   Jamie's Italian     3.0  3 of 5 bubbles   \n",
      "\n",
      "                value         service  \n",
      "0                 NaN             NaN  \n",
      "1      4 of 5 bubbles  3 of 5 bubbles  \n",
      "2                 NaN             NaN  \n",
      "3      4 of 5 bubbles  4 of 5 bubbles  \n",
      "4      4 of 5 bubbles  5 of 5 bubbles  \n",
      "5      4 of 5 bubbles  2 of 5 bubbles  \n",
      "6                 NaN             NaN  \n",
      "7      1 of 5 bubbles  2 of 5 bubbles  \n",
      "8                 NaN             NaN  \n",
      "9                 NaN             NaN  \n",
      "10                NaN             NaN  \n",
      "11     3 of 5 bubbles  4 of 5 bubbles  \n",
      "12                NaN             NaN  \n",
      "13     1 of 5 bubbles  1 of 5 bubbles  \n",
      "14                NaN             NaN  \n",
      "15                NaN             NaN  \n",
      "16     3 of 5 bubbles  4 of 5 bubbles  \n",
      "17     4 of 5 bubbles  5 of 5 bubbles  \n",
      "18     5 of 5 bubbles  5 of 5 bubbles  \n",
      "19                NaN             NaN  \n",
      "20                NaN             NaN  \n",
      "21                NaN             NaN  \n",
      "22     3 of 5 bubbles  5 of 5 bubbles  \n",
      "23                NaN             NaN  \n",
      "24                NaN             NaN  \n",
      "25     2 of 5 bubbles  2 of 5 bubbles  \n",
      "26                NaN             NaN  \n",
      "27     5 of 5 bubbles  5 of 5 bubbles  \n",
      "28                NaN             NaN  \n",
      "29                NaN             NaN  \n",
      "...               ...             ...  \n",
      "19968             NaN             NaN  \n",
      "19969             NaN             NaN  \n",
      "19970             NaN             NaN  \n",
      "19971  4 of 5 bubbles  5 of 5 bubbles  \n",
      "19972             NaN             NaN  \n",
      "19973  5 of 5 bubbles  5 of 5 bubbles  \n",
      "19974             NaN             NaN  \n",
      "19975             NaN             NaN  \n",
      "19976             NaN             NaN  \n",
      "19977  3 of 5 bubbles  3 of 5 bubbles  \n",
      "19978  3 of 5 bubbles  4 of 5 bubbles  \n",
      "19979  4 of 5 bubbles  5 of 5 bubbles  \n",
      "19980             NaN             NaN  \n",
      "19981  5 of 5 bubbles  5 of 5 bubbles  \n",
      "19982  3 of 5 bubbles  4 of 5 bubbles  \n",
      "19983  5 of 5 bubbles  5 of 5 bubbles  \n",
      "19984             NaN             NaN  \n",
      "19985  5 of 5 bubbles  5 of 5 bubbles  \n",
      "19986             NaN             NaN  \n",
      "19987             NaN             NaN  \n",
      "19988             NaN             NaN  \n",
      "19989             NaN             NaN  \n",
      "19990             NaN             NaN  \n",
      "19991             NaN             NaN  \n",
      "19992  4 of 5 bubbles  5 of 5 bubbles  \n",
      "19993             NaN             NaN  \n",
      "19994  4 of 5 bubbles  5 of 5 bubbles  \n",
      "19995  5 of 5 bubbles  5 of 5 bubbles  \n",
      "19996  2 of 5 bubbles  3 of 5 bubbles  \n",
      "19997  3 of 5 bubbles  3 of 5 bubbles  \n",
      "\n",
      "[19998 rows x 5 columns]\n"
     ]
    }
   ],
   "source": [
    "#Creating a data matrix of the restaurants\n",
    "londdf=data\n",
    "\n",
    "\n",
    "#Clearing other data that are not useful for our data later.\n",
    "londdf=londdf.loc[:, ['name','rating','food','value','service']]\n",
    "print(londdf.dtypes)\n",
    "\n",
    "#Replace the empty spaces in the data with nan then remove nan\n",
    "londdf['rating']=londdf['rating'].map({'5 of 5 bubbles':5,'4 of 5 bubbles':4,\\\n",
    "                                       '3 of 5 bubbles':3,'2 of 5 bubbles':2,'1 of 5 bubbles':1})\n",
    "\n",
    "\n",
    "#londdf['rating'].apply(lambda x:str(x))\n",
    "#londdf['rating'].replace('5 of 5 bubbles', int(1))\n",
    "#londdf = londdf.dropna(subset=['food'])\n",
    "#print(londdf.shape)\n",
    "print(londdf)\n",
    "\n",
    "#Selecting reviews that are substantial for the data later on\n",
    "#parisdf=parisdf[(parisdf['Number of Reviews'])>25]\n",
    "#print(parisdf.shape)\n",
    "#Clearing other data that are not useful for our data later.\n",
    "#parisdf=parisdf.loc[:, ['Name','City','Rating','Number of Reviews']]\n",
    "#print(parisdf.shape)"
   ]
  },
  {
   "cell_type": "code",
   "execution_count": null,
   "metadata": {},
   "outputs": [],
   "source": []
  },
  {
   "cell_type": "code",
   "execution_count": null,
   "metadata": {},
   "outputs": [],
   "source": []
  },
  {
   "cell_type": "code",
   "execution_count": null,
   "metadata": {},
   "outputs": [],
   "source": []
  },
  {
   "cell_type": "code",
   "execution_count": null,
   "metadata": {},
   "outputs": [],
   "source": []
  },
  {
   "cell_type": "code",
   "execution_count": null,
   "metadata": {},
   "outputs": [],
   "source": []
  },
  {
   "cell_type": "code",
   "execution_count": null,
   "metadata": {},
   "outputs": [],
   "source": []
  },
  {
   "cell_type": "code",
   "execution_count": null,
   "metadata": {},
   "outputs": [],
   "source": []
  },
  {
   "cell_type": "code",
   "execution_count": null,
   "metadata": {},
   "outputs": [],
   "source": []
  },
  {
   "cell_type": "code",
   "execution_count": 3,
   "metadata": {},
   "outputs": [
    {
     "name": "stdout",
     "output_type": "stream",
     "text": [
      "(125527, 11)\n"
     ]
    }
   ],
   "source": [
    "# Restaurants in Paris\n",
    "data = pd.read_csv(\"TA_restaurants_curated.csv\") #read the file and store into 'data'\n",
    "print(data.shape)\n",
    "\n"
   ]
  },
  {
   "cell_type": "code",
   "execution_count": 6,
   "metadata": {},
   "outputs": [
    {
     "name": "stdout",
     "output_type": "stream",
     "text": [
      "(14874, 11)\n",
      "(13280, 11)\n",
      "(8057, 11)\n",
      "(8057, 4)\n"
     ]
    }
   ],
   "source": [
    "#Creating a data matrix of Paris\n",
    "\n",
    "\n",
    "#Filter out the results which the city starts with Paris\n",
    "parisdf=data[data.City.str.startswith('Paris')] \n",
    "print(parisdf.shape)\n",
    "#Replace the empty spaces in the data with nan then remove nan\n",
    "parisdf['Number of Reviews'].replace('', np.nan)\n",
    "parisdf['Rating'].replace('', np.nan)\n",
    "parisdf = parisdf[np.isfinite(parisdf['Number of Reviews'])]\n",
    "parisdf = parisdf[np.isfinite(parisdf['Rating'])]\n",
    "print(parisdf.shape)\n",
    "#Selecting reviews that are substantial for the data later on\n",
    "parisdf=parisdf[(parisdf['Number of Reviews'])>25]\n",
    "print(parisdf.shape)\n",
    "#Clearing other data that are not useful for our data later.\n",
    "parisdf=parisdf.loc[:, ['Name','City','Rating','Number of Reviews']]\n",
    "print(parisdf.shape)\n",
    "\n",
    "#parisdf.to_csv('out.csv', index=False, header=False)"
   ]
  },
  {
   "cell_type": "code",
   "execution_count": null,
   "metadata": {},
   "outputs": [],
   "source": []
  }
 ],
 "metadata": {
  "kernelspec": {
   "display_name": "Python 3",
   "language": "python",
   "name": "python3"
  },
  "language_info": {
   "codemirror_mode": {
    "name": "ipython",
    "version": 3
   },
   "file_extension": ".py",
   "mimetype": "text/x-python",
   "name": "python",
   "nbconvert_exporter": "python",
   "pygments_lexer": "ipython3",
   "version": "3.6.4"
  }
 },
 "nbformat": 4,
 "nbformat_minor": 2
}
