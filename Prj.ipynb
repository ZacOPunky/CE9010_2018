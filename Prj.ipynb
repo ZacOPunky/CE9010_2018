{
 "cells": [
  {
   "cell_type": "code",
   "execution_count": 63,
   "metadata": {},
   "outputs": [],
   "source": [
    "import numpy as np\n",
    "import pandas as pd\n",
    "import csv\n"
   ]
  },
  {
   "cell_type": "code",
   "execution_count": 64,
   "metadata": {},
   "outputs": [
    {
     "name": "stdout",
     "output_type": "stream",
     "text": [
      "(125527, 11)\n"
     ]
    }
   ],
   "source": [
    "data = pd.read_csv(\"TA_restaurants_curated.csv\") #read the file and store into 'data'\n",
    "print(data.shape)\n",
    "\n"
   ]
  },
  {
   "cell_type": "code",
   "execution_count": 69,
   "metadata": {},
   "outputs": [
    {
     "name": "stdout",
     "output_type": "stream",
     "text": [
      "(14874, 11)\n",
      "(13280, 11)\n",
      "(8057, 11)\n",
      "(8057, 4)\n"
     ]
    }
   ],
   "source": [
    "#Creating a data matrix of Paris\n",
    "\n",
    "\n",
    "#Filter out the results which the city starts with Paris\n",
    "parisdf=f=data[data.City.str.startswith('Paris')] \n",
    "print(parisdf.shape)\n",
    "#Replace the empty spaces in the data with nan then remove nan\n",
    "parisdf['Number of Reviews'].replace('', np.nan)\n",
    "parisdf['Rating'].replace('', np.nan)\n",
    "parisdf = parisdf[np.isfinite(parisdf['Number of Reviews'])]\n",
    "parisdf = parisdf[np.isfinite(parisdf['Rating'])]\n",
    "print(parisdf.shape)\n",
    "#Selecting reviews that are substantial for the data later on\n",
    "parisdf=parisdf[(parisdf['Number of Reviews'])>25]\n",
    "print(parisdf.shape)\n",
    "#Clearing other data that are not useful for our data later.\n",
    "parisdf=parisdf.loc[:, ['Name','City','Rating','Number of Reviews']]\n",
    "print(parisdf.shape)\n",
    "\n",
    "#parisdf.to_csv('out.csv', index=False, header=False)"
   ]
  },
  {
   "cell_type": "code",
   "execution_count": null,
   "metadata": {},
   "outputs": [],
   "source": []
  }
 ],
 "metadata": {
  "kernelspec": {
   "display_name": "Python 3",
   "language": "python",
   "name": "python3"
  },
  "language_info": {
   "codemirror_mode": {
    "name": "ipython",
    "version": 3
   },
   "file_extension": ".py",
   "mimetype": "text/x-python",
   "name": "python",
   "nbconvert_exporter": "python",
   "pygments_lexer": "ipython3",
   "version": "3.6.4"
  }
 },
 "nbformat": 4,
 "nbformat_minor": 2
}
